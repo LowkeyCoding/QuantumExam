{
 "cells": [
  {
   "cell_type": "code",
   "execution_count": 1,
   "metadata": {
    "metadata": {}
   },
   "outputs": [],
   "source": [
    "# Import numpy for random number generation\n",
    "import numpy as np\n",
    "from random import randbytes\n",
    "# importing Qiskit\n",
    "from qiskit import QuantumCircuit, ClassicalRegister, QuantumRegister, transpile\n",
    "from qiskit_ibm_runtime import QiskitRuntimeService\n",
    "from qiskit_aer import AerSimulator\n",
    "# Import basic plotting tools\n",
    "from helpers import *\n",
    "from qiskit.visualization import plot_histogram\n",
    "from dotenv import load_dotenv\n",
    "import os\n",
    "\n",
    "load_dotenv()\n",
    "provider = QiskitRuntimeService(token=os.environ[\"ibm_token\"], channel=\"ibm_quantum\")\n",
    "\n",
    "# Selecting a backend\n",
    "real_backend = provider.backend(\"ibm_brisbane\")\n",
    "backend = real_backend#AerSimulator.from_backend(real_backend)"
   ]
  },
  {
   "cell_type": "code",
   "execution_count": 2,
   "metadata": {
    "metadata": {}
   },
   "outputs": [],
   "source": [
    "n = 32  # for a local backend n can go as up as 23, after that it raises a Memory Error\n",
    "qr = QuantumRegister(n, name='qr')\n",
    "cr = ClassicalRegister(n, name='cr')\n",
    "Alice = User(\n",
    "    name = \"Alice\",\n",
    "    key = \"\",\n",
    "    basis = [],\n",
    "    qc = QuantumCircuit(qr, cr, name=\"a\"),\n",
    "    qr = qr,\n",
    "    cr = cr,\n",
    "    n = n,\n",
    ")\n",
    "Bob = User(\n",
    "    name = \"Bob\",\n",
    "    key = \"\",\n",
    "    basis = [],\n",
    "    qc = QuantumCircuit(qr, cr, name=\"b\"),\n",
    "    qr = qr,\n",
    "    cr = cr,\n",
    "    n = n,\n",
    ")\n",
    "Eve = User(\n",
    "    name = \"Eve\",\n",
    "    key = \"\",\n",
    "    basis = [],\n",
    "    qc = QuantumCircuit(qr, cr, name=\"c\"),\n",
    "    qr = qr,\n",
    "    cr = cr,\n",
    "    n = n,\n",
    ")"
   ]
  },
  {
   "cell_type": "code",
   "execution_count": 3,
   "metadata": {
    "metadata": {}
   },
   "outputs": [],
   "source": [
    "Alice.key = int.from_bytes(randbytes(int(n/8)))\n",
    "# Cast key to binary for encoding\n",
    "# range: key[0]-key[15] with key[15] least significant figure\n",
    "Alice.key = np.binary_repr(Alice.key, n) # n is the width\n",
    "\n",
    "# Encode key as alice qubits \n",
    "# IBM's qubits are all set to |0> initially\n",
    "for index, digit in enumerate(Alice.key):\n",
    "    if digit == '1':\n",
    "        Alice.qc.x(Alice.qr[index]) # if key has a '1', change state to |1>\n",
    "\n",
    "create_basis(Alice)\n",
    "create_basis(Bob)\n",
    "create_basis(Eve)"
   ]
  },
  {
   "cell_type": "code",
   "execution_count": 4,
   "metadata": {
    "metadata": {}
   },
   "outputs": [
    {
     "name": "stdout",
     "output_type": "stream",
     "text": [
      "Percentage of qubits to be discarded according to table comparison:  0.59375\n",
      "Measurement convergence by additional chance:  0.71875\n",
      "Percentage of similarity between the keys:  1.0\n",
      "Key exchange has been successfull\n",
      "New Alice's key:  0000011000001001100\n",
      "New Eve's key:  0000011000001001100\n"
     ]
    }
   ],
   "source": [
    "alice_eve = send_state(Alice, Eve)\n",
    "counts = execute(alice_eve, backend)\n",
    "\n",
    "Eve.key = list(counts)[0][::-1]\n",
    "\n",
    "new_alice_key, new_eve_key = get_shared_key(Alice, Eve)"
   ]
  },
  {
   "cell_type": "code",
   "execution_count": 5,
   "metadata": {
    "metadata": {}
   },
   "outputs": [
    {
     "name": "stdout",
     "output_type": "stream",
     "text": [
      "Percentage of qubits to be discarded according to table comparison:  0.53125\n",
      "Measurement convergence by additional chance:  0.71875\n",
      "Percentage of similarity between the keys:  0.7058823529411765\n",
      "Key exchange has been tampered! Check for eavesdropper or try again\n",
      "New Alice's key is invalid:  00000110000101101\n",
      "New Bob's key is invalid:  00000101000001000\n"
     ]
    },
    {
     "data": {
      "text/plain": [
       "(['0',\n",
       "  '0',\n",
       "  '0',\n",
       "  '0',\n",
       "  '0',\n",
       "  '1',\n",
       "  '1',\n",
       "  '0',\n",
       "  '0',\n",
       "  '0',\n",
       "  '0',\n",
       "  '1',\n",
       "  '0',\n",
       "  '1',\n",
       "  '1',\n",
       "  '0',\n",
       "  '1'],\n",
       " ['0',\n",
       "  '0',\n",
       "  '0',\n",
       "  '0',\n",
       "  '0',\n",
       "  '1',\n",
       "  '0',\n",
       "  '1',\n",
       "  '0',\n",
       "  '0',\n",
       "  '0',\n",
       "  '0',\n",
       "  '0',\n",
       "  '1',\n",
       "  '0',\n",
       "  '0',\n",
       "  '0'])"
      ]
     },
     "execution_count": 5,
     "metadata": {},
     "output_type": "execute_result"
    }
   ],
   "source": [
    "eve_bob = send_state(Eve, Bob)\n",
    "counts = execute(eve_bob, backend)\n",
    "\n",
    "Bob.key = list(counts)[0][::-1]\n",
    "get_shared_key(Alice, Bob)"
   ]
  }
 ],
 "metadata": {
  "kernelspec": {
   "display_name": ".venv",
   "language": "python",
   "name": "python3"
  },
  "language_info": {
   "codemirror_mode": {
    "name": "ipython",
    "version": 3
   },
   "file_extension": ".py",
   "mimetype": "text/x-python",
   "name": "python",
   "nbconvert_exporter": "python",
   "pygments_lexer": "ipython3",
   "version": "3.12.3"
  }
 },
 "nbformat": 4,
 "nbformat_minor": 2
}
