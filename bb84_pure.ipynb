{
 "cells": [
  {
   "cell_type": "code",
   "execution_count": 1,
   "metadata": {
    "metadata": {}
   },
   "outputs": [],
   "source": [
    "# Import numpy for random number generation\n",
    "import numpy as np\n",
    "from random import randbytes\n",
    "# importing Qiskit\n",
    "from qiskit import QuantumCircuit, ClassicalRegister, QuantumRegister, transpile\n",
    "from qiskit_ibm_runtime import QiskitRuntimeService\n",
    "from qiskit_aer import AerSimulator\n",
    "# Import basic plotting tools\n",
    "from helpers import *\n",
    "from qiskit.visualization import plot_histogram\n",
    "from dotenv import load_dotenv\n",
    "import os\n",
    "\n",
    "load_dotenv()\n",
    "provider = QiskitRuntimeService(token=os.environ[\"ibm_token\"], channel=\"ibm_quantum\")\n",
    "\n",
    "# Selecting a backend\n",
    "real_backend = provider.backend(\"ibm_brisbane\")\n",
    "backend = AerSimulator().from_backend(real_backend)"
   ]
  },
  {
   "cell_type": "code",
   "execution_count": 10,
   "metadata": {
    "metadata": {}
   },
   "outputs": [],
   "source": [
    "n = 8  # for a local backend n can go as up as 23, after that it raises a Memory Error\n",
    "qr = QuantumRegister(n, name='qr')\n",
    "cr = ClassicalRegister(n, name='cr')\n",
    "Alice = User(\n",
    "    name = \"Alice\",\n",
    "    key = \"\",\n",
    "    basis = [],\n",
    "    qc = QuantumCircuit(qr, cr, name=\"a\"),\n",
    "    qr = qr,\n",
    "    cr = cr,\n",
    "    n = n,\n",
    ")\n",
    "Bob = User(\n",
    "    name = \"Bob\",\n",
    "    key = \"\",\n",
    "    basis = [],\n",
    "    qc = QuantumCircuit(qr, cr, name=\"b\"),\n",
    "    qr = qr,\n",
    "    cr = cr,\n",
    "    n = n,\n",
    ")"
   ]
  },
  {
   "cell_type": "code",
   "execution_count": 11,
   "metadata": {
    "metadata": {}
   },
   "outputs": [
    {
     "name": "stdout",
     "output_type": "stream",
     "text": [
      "01110110\n"
     ]
    }
   ],
   "source": [
    "Alice.key = int.from_bytes(randbytes(int(n/8)))\n",
    "# Cast key to binary for encoding\n",
    "# range: key[0]-key[15] with key[15] least significant figure\n",
    "Alice.key = np.binary_repr(Alice.key, n) # n is the width\n",
    "print(Alice.key)\n",
    "# Encode key as alice qubits \n",
    "# IBM's qubits are all set to |0> initially\n",
    "for index, digit in enumerate(Alice.key):\n",
    "    if digit == '1':\n",
    "        Alice.qc.x(Alice.qr[index]) # if key has a '1', change state to |1>\n",
    "create_basis(Alice)\n",
    "create_basis(Bob)"
   ]
  },
  {
   "cell_type": "code",
   "execution_count": 15,
   "metadata": {
    "metadata": {}
   },
   "outputs": [
    {
     "name": "stdout",
     "output_type": "stream",
     "text": [
      "['01100100', '11100101', '01000110', '01110110', '11000010', '01001100', '01100110', '11011110', '11001101', '11100110', '11000100', '01001110', '01000010', '11001100', '01101110', '01101100', '00101110', '11100000', '11011100', '11010000', '00100110', '11101100', '11101101', '11000110', '01001111', '11000111', '11010110', '11101110', '10101110', '11100111', '01000100', '11001110', '01010110', '10000110', '01101000', '01100101', '11111110', '01110100', '11000000', '01000111', '11100100', '01100010', '01111110', '00000110', '01000000', '01001101', '11000101', '11111100', '01100011', '10101100', '11110100', '01101101', '01001000', '11110110', '01011100', '10000100', '10100100', '11100010', '10001100', '01010100', '01100111', '11101010', '01100000', '01101010']\n",
      "Succ rate 16/64: 0.25\n"
     ]
    }
   ],
   "source": [
    "alice_bob = send_state(Alice, Bob)\n",
    "counts = execute(alice_bob, backend, shots=1000)\n",
    "\n",
    "#(a,b) = get_shared_key(Alice, Bob, simp = False)\n",
    "success = 0\n",
    "keys = list(counts)\n",
    "print(keys)\n",
    "for key in keys:\n",
    "    Bob.key = key[::-1]\n",
    "    (a, b, s) = get_shared_key(Alice, Bob, simp = True)\n",
    "    if s:\n",
    "        success += 1\n",
    "print(f\"Succ rate {success}/{len(keys)}: {success/len(keys)}\")"
   ]
  }
 ],
 "metadata": {
  "kernelspec": {
   "display_name": ".venv",
   "language": "python",
   "name": "python3"
  },
  "language_info": {
   "codemirror_mode": {
    "name": "ipython",
    "version": 3
   },
   "file_extension": ".py",
   "mimetype": "text/x-python",
   "name": "python",
   "nbconvert_exporter": "python",
   "pygments_lexer": "ipython3",
   "version": "3.12.3"
  }
 },
 "nbformat": 4,
 "nbformat_minor": 2
}
