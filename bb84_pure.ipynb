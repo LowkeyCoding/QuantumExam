{
 "cells": [
  {
   "cell_type": "code",
   "execution_count": 9,
   "metadata": {
    "metadata": {}
   },
   "outputs": [],
   "source": [
    "# Import numpy for random number generation\n",
    "import numpy as np\n",
    "from random import randbytes\n",
    "# importing Qiskit\n",
    "from qiskit import QuantumCircuit, ClassicalRegister, QuantumRegister, transpile\n",
    "from qiskit_ibm_runtime import QiskitRuntimeService, Session, SamplerV2 as Sampler\n",
    "from qiskit_aer import AerSimulator\n",
    "# Import basic plotting tools\n",
    "from helpers import *\n",
    "from qiskit.visualization import plot_histogram\n",
    "from dotenv import load_dotenv\n",
    "import os\n",
    "\n",
    "load_dotenv()\n",
    "provider = QiskitRuntimeService(token=os.environ[\"ibm_token\"], channel=\"ibm_quantum\")\n",
    "\n",
    "# Selecting a backend\n",
    "real_backend = provider.backend(\"ibm_brisbane\")\n",
    "backend = AerSimulator().from_backend(real_backend)"
   ]
  },
  {
   "cell_type": "code",
   "execution_count": 10,
   "metadata": {
    "metadata": {}
   },
   "outputs": [],
   "source": [
    "key_len = 16  # for a local backend n can go as up as 23, after that it raises a Memory Error\n",
    "runs = 10 # Number of unique key exchanges\n",
    "shots = 2 # Number of times each circuit is executed\n",
    "alices = []\n",
    "bobs = []\n",
    "for _ in range(runs):\n",
    "    qr = QuantumRegister(key_len, name='qr')\n",
    "    cr = ClassicalRegister(key_len, name='cr')\n",
    "    Alice = User(\n",
    "        name = \"Alice\",\n",
    "        key = \"\",\n",
    "        basis = [],\n",
    "        qc = QuantumCircuit(qr, cr, name=\"a\"),\n",
    "        qr = qr,\n",
    "        cr = cr,\n",
    "        n = key_len,\n",
    "    )\n",
    "    Bob = User(\n",
    "        name = \"Bob\",\n",
    "        key = \"\",\n",
    "        basis = [],\n",
    "        qc = QuantumCircuit(qr, cr, name=\"b\"),\n",
    "        qr = qr,\n",
    "        cr = cr,\n",
    "        n = key_len,\n",
    "    )\n",
    "    alices.append(Alice)\n",
    "    bobs.append(Bob)"
   ]
  },
  {
   "cell_type": "code",
   "execution_count": 11,
   "metadata": {},
   "outputs": [],
   "source": [
    "for i in range(runs):\n",
    "    alices[i].key = int.from_bytes(randbytes(int(key_len/8)))\n",
    "    # Cast key to binary for encoding\n",
    "    alices[i].key = np.binary_repr(alices[i].key, key_len) # n is the width\n",
    "    # Encode key as alice qubits \n",
    "    # IBM's qubits are all set to |0> initially\n",
    "    for index, digit in enumerate(alices[i].key):\n",
    "        if digit == '1':\n",
    "            alices[i].qc.x(alices[i].qr[index]) # if key has a '1', change state to |1>\n",
    "    create_basis(alices[i])\n",
    "    create_basis(bobs[i])"
   ]
  },
  {
   "cell_type": "code",
   "execution_count": 12,
   "metadata": {
    "metadata": {}
   },
   "outputs": [
    {
     "name": "stderr",
     "output_type": "stream",
     "text": [
      "c:\\Users\\Lowkey\\Documents\\Code\\QuantumExam\\.venv\\Lib\\site-packages\\qiskit_ibm_runtime\\session.py:157: UserWarning: Session is not supported in local testing mode or when using a simulator.\n",
      "  warnings.warn(\n"
     ]
    }
   ],
   "source": [
    "circs = []\n",
    "for i in range(runs):\n",
    "    alice_bob = send_state(alices[i], bobs[i])\n",
    "    circs.append(transpile(alice_bob,backend))\n",
    "data = []\n",
    "with Session(backend = backend) as session:\n",
    "    sampler = Sampler(session=session)\n",
    "    job = sampler.run(circs, shots=shots)\n",
    "    job.result()[i]\n",
    "\n",
    "for i in range(runs): \n",
    "    data.append(job.result()[i].data.cr.get_counts())   \n"
   ]
  },
  {
   "cell_type": "code",
   "execution_count": 13,
   "metadata": {},
   "outputs": [
    {
     "name": "stdout",
     "output_type": "stream",
     "text": [
      "total executions: 20\n",
      "Succ rate: 0.85\n",
      "Fail rate: 0.15\n",
      "Average key length 9.0\n",
      "Unique lengths: {9: 8, 10: 4, 6: 2, 7: 4, 14: 2}\n"
     ]
    }
   ],
   "source": [
    "lens = {}\n",
    "succ_len = key_len/2 # min key lenght should be half the input qubits\n",
    "fails = 0\n",
    "for i in range(runs):\n",
    "    for key, count in data[i].items():\n",
    "        bobs[i].key = key[::-1]\n",
    "        (key_a, key_b) = get_shared_key2(alices[i], bobs[i])\n",
    "        acc = get_accurracy(key_a, key_b)\n",
    "        key_len = len(key_a)\n",
    "        if key_len in lens:\n",
    "            lens[key_len] += 1 \n",
    "        else:\n",
    "            lens[key_len] = 1\n",
    "        if acc != 1:\n",
    "            fails +=1*count # counts are a pair of (keys, counts)\n",
    "total_execs = runs*shots\n",
    "succ = total_execs - fails\n",
    "print(f\"total executions: {total_execs}\")\n",
    "print(f\"Succ rate: {succ/total_execs}\")\n",
    "print(f\"Fail rate: {fails/total_execs}\")\n",
    "print(f\"Average key length {sum(lens[l] * l for l in lens)/total_execs}\")\n",
    "print(f\"Unique lengths: {lens}\")"
   ]
  }
 ],
 "metadata": {
  "kernelspec": {
   "display_name": ".venv",
   "language": "python",
   "name": "python3"
  },
  "language_info": {
   "codemirror_mode": {
    "name": "ipython",
    "version": 3
   },
   "file_extension": ".py",
   "mimetype": "text/x-python",
   "name": "python",
   "nbconvert_exporter": "python",
   "pygments_lexer": "ipython3",
   "version": "3.12.3"
  }
 },
 "nbformat": 4,
 "nbformat_minor": 2
}
